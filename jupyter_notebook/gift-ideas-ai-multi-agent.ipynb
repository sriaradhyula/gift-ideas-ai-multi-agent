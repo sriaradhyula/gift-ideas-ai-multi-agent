{
  "cells": [
    {
      "cell_type": "markdown",
      "id": "intro",
      "metadata": {},
      "source": [
        "# Gift Shopping Idea Generator with a Multi-Agent System\n",
        "\n",
        "This notebook demonstrates a multi-step gift recommendation system using a state graph approach. It:\n",
        "\n",
        "1. Takes an input topic (e.g. \"gifts for tech enthusiasts\") and a maximum number of ideas.\n",
        "2. Routes the generation of gift ideas through different \"shopper\" personas:\n",
        "   - **Enthusiast**: Prefers exciting, memorable, and experience-driven gifts.\n",
        "   - **Essentialist**: Focuses on functional and purposeful gifts.\n",
        "   - **Frugalist**: Focuses on value and staying within budget.\n",
        "3. Uses a language model (OpenAI ChatGPT) to suggest gift ideas.\n",
        "4. Simulates (or optionally performs) a web search for the suggested gift ideas.\n",
        "5. Outputs a final HTML file with top recommendations for each shopper type.\n",
        "\n",
        "Before starting, ensure you have the necessary packages and environment variables set."
      ]
    },
    {
      "cell_type": "markdown",
      "id": "installation",
      "metadata": {},
      "source": [
        "## Installation and Setup\n",
        "\n",
        "If you have not installed the required dependencies, you may need to run:\n",
        "\n",
        "```bash\n",
        "!pip install pydantic==1.10.9 # or a compatible version\n",
        "!pip install langchain  # if langchain_core is part of langchain, else install langchain_core if available\n",
        "!pip install openai\n",
        "!pip install serpapi\n",
        "```\n",
        "\n",
        "**Note:** The exact dependencies for `langchain_core`, `langchain_openai`, and `langgraph` may vary as they are not standard PyPI packages. You might need to install them from a Git repository or a private package index if provided. The code above assumes these are available in your environment."
      ]
    },
    {
      "cell_type": "markdown",
      "id": "imports",
      "metadata": {},
      "source": [
        "## Imports and Logging Configuration\n",
        "\n",
        "Below we set up the imports, logging, and the language model."
      ]
    },
    {
      "cell_type": "code",
      "id": "imports-code",
      "metadata": {
        "executionInfo": {
          "status": "ok"
        }
      },
      "source": [
        "import operator\n",
        "from pydantic import BaseModel, Field\n",
        "from typing import List, Literal, Annotated\n",
        "\n",
        "import logging\n",
        "import datetime\n",
        "import os\n",
        "import json\n",
        "import argparse\n",
        "\n",
        "from langchain_core.messages import HumanMessage, SystemMessage\n",
        "from langchain_openai import ChatOpenAI\n",
        "\n",
        "from langgraph.constants import Send\n",
        "from langgraph.graph import END, MessagesState, START, StateGraph\n",
        "from langgraph.types import Command\n",
        "from serpapi import GoogleSearch\n",
        "\n",
        "# Set up logging\n",
        "log_formatted_str = \"%(asctime)s [%(name)s] [%(levelname)s] [%(funcName)s] %(message)s\"\n",
        "logging.basicConfig(level=logging.INFO, format=log_formatted_str)\n",
        "logger = logging.getLogger(__name__)\n",
        "\n",
        "# Instantiate the language model (Make sure you have access to model=\"gpt-4o\" or change accordingly)\n",
        "llm = ChatOpenAI(model=\"gpt-4o\", temperature=0)"
      ],
      "execution_count": null,
      "outputs": []
    },
    {
      "cell_type": "markdown",
      "id": "schemas",
      "metadata": {},
      "source": [
        "## Data Models (Schemas)\n",
        "\n",
        "The system uses Pydantic models to define the structure of the data passed between nodes in the graph."
      ]
    },
    {
      "cell_type": "code",
      "id": "schemas-code",
      "metadata": {},
      "source": [
        "class GiftShopper(BaseModel):\n",
        "    topic: str  # Gift Shopping topic\n",
        "    max_ideas: int  # Number of ideas to generate\n",
        "\n",
        "class SearchQuery(BaseModel):\n",
        "    shopper_type: Literal[\"Enthusiast\", \"Essentialist\", \"Frugalist\"]\n",
        "    search_query: Annotated[str, operator.add]\n",
        "\n",
        "class Idea(BaseModel):\n",
        "    name: str = Field(\n",
        "        description=\"Name of the Idea.\"\n",
        "    )\n",
        "    description: str = Field(\n",
        "        description=\"Description of the Idea\",\n",
        "    )\n",
        "    shopper_type: Literal[\"Enthusiast\", \"Essentialist\", \"Frugalist\"] = Field(\n",
        "        description=\"Shopper Type\",\n",
        "    )\n",
        "\n",
        "class IdeaList(BaseModel):\n",
        "    ideas: Annotated[list[Idea], operator.add]\n",
        "\n",
        "class WebSearchResult(BaseModel):\n",
        "    title: str\n",
        "    link: str\n",
        "    source: str\n",
        "    shopper_type: Literal[\"Enthusiast\", \"Essentialist\", \"Frugalist\"]\n",
        "    position: int\n",
        "    thumbnail: str\n",
        "    price: str\n",
        "    tag: str\n",
        "    product_link: str\n",
        "\n",
        "class WebSearchList(BaseModel):\n",
        "    search_results: Annotated[list[WebSearchResult], operator.add]"
      ],
      "execution_count": null,
      "outputs": []
    },
    {
      "cell_type": "markdown",
      "id": "final-output",
      "metadata": {},
      "source": [
        "## Final Recommendations Function\n",
        "\n",
        "This function takes in a `WebSearchList` state and produces an HTML file with the top 3 gift recommendations per shopper type."
      ]
    },
    {
      "cell_type": "code",
      "id": "final-output-code",
      "metadata": {},
      "source": [
        "def final_gift_recommendations(state: WebSearchList):\n",
        "    logger.debug(\"Finalizing report\")\n",
        "    html_output = \"\"\"\n",
        "    <html>\n",
        "    <head>\n",
        "      <style>\n",
        "        body { font-family: Arial, sans-serif; margin: 20px; }\n",
        "        table { width: 100%; border-collapse: collapse; margin-bottom: 20px; }\n",
        "        th, td { border: 1px solid #ddd; padding: 8px; text-align: left; }\n",
        "        th { background-color: #f2f2f2; }\n",
        "        h2 { color: #333; }\n",
        "        .thumbnail { width: 100px; }\n",
        "      </style>\n",
        "    </head>\n",
        "    <body>\n",
        "    \"\"\"\n",
        "\n",
        "    shopper_types = [\"Enthusiast\", \"Essentialist\", \"Frugalist\"]\n",
        "    for shopper_type in shopper_types:\n",
        "        filtered_results = [result for result in state.search_results if result.shopper_type == shopper_type]\n",
        "        filtered_results.sort(key=lambda x: x.position)\n",
        "        top_results = filtered_results[:3]\n",
        "\n",
        "        html_output += f\"<h2>Top 3 Choices for {shopper_type}</h2>\"\n",
        "        html_output += \"\"\"\n",
        "        <table>\n",
        "          <tr>\n",
        "            <th>Position</th>\n",
        "            <th>Thumbnail</th>\n",
        "            <th>Title</th>\n",
        "            <th>Link</th>\n",
        "            <th>Source</th>\n",
        "            <th>Price</th>\n",
        "            <th>Tag</th>\n",
        "          </tr>\n",
        "        \"\"\"\n",
        "        for result in top_results:\n",
        "            html_output += f\"\"\"\n",
        "            <tr>\n",
        "              <td>{result.position}</td>\n",
        "              <td><img src=\"{result.thumbnail}\" class=\"thumbnail\" /></td>\n",
        "              <td>{result.title}</td>\n",
        "              <td><a href=\"{result.link}\" target=\"_blank\">{result.link}</a></td>\n",
        "              <td>{result.source}</td>\n",
        "              <td>{result.price}</td>\n",
        "              <td>{result.tag}</td>\n",
        "            </tr>\n",
        "            \"\"\"\n",
        "        html_output += \"</table>\"\n",
        "\n",
        "    html_output += \"\"\"\n",
        "    </body>\n",
        "    </html>\n",
        "    \"\"\"\n",
        "\n",
        "    with open(\"gift_recommendations.html\", \"w\") as f:\n",
        "        f.write(html_output)\n",
        "    logger.info(\"HTML output saved as 'gift_recommendations.html'\")"
      ],
      "execution_count": null,
      "outputs": []
    },
    {
      "cell_type": "markdown",
      "id": "router",
      "metadata": {},
      "source": [
        "## Routing Functions for Gift Ideation\n",
        "\n",
        "These functions direct the flow of gift idea generation through different shopper personas."
      ]
    },
    {
      "cell_type": "code",
      "id": "router-code",
      "metadata": {},
      "source": [
        "def gift_ideation_router(state: GiftShopper):\n",
        "    logger.debug(\"Routing gift ideation\")\n",
        "    # In this example, the router simply returns the state.\n",
        "    # The graph edges determine which persona node to invoke next.\n",
        "    return state"
      ],
      "execution_count": null,
      "outputs": []
    },
    {
      "cell_type": "markdown",
      "id": "helper-function",
      "metadata": {},
      "source": [
        "### Helper Function for Gift Shopper\n",
        "\n",
        "This helper function is used by each persona to generate gift ideas using the LLM."
      ]
    },
    {
      "cell_type": "code",
      "id": "helper-function-code",
      "metadata": {},
      "source": [
        "def gift_shopper(state: GiftShopper, shopper_type: str, instructions: str) -> Command[Literal[\"scour_the_internet\"]]:\n",
        "    logger.info(f\"Entering {shopper_type}\")\n",
        "    topic = state.topic\n",
        "    max_ideas = state.max_ideas\n",
        "    system_message = instructions.format(topic=topic, max_ideas=max_ideas)\n",
        "    structured_llm = llm.with_structured_output(IdeaList)\n",
        "    llm_response = structured_llm.invoke([SystemMessage(content=system_message)] + [HumanMessage(content=f\"Select {max_ideas} gift ideas.\")])\n",
        "    logger.info(f\"LLM response: {llm_response}\")\n",
        "    return Send(\"scour_the_internet\", {\"ideas\": llm_response.ideas})"
      ],
      "execution_count": null,
      "outputs": []
    },
    {
      "cell_type": "markdown",
      "id": "personas",
      "metadata": {},
      "source": [
        "### Persona-Specific Nodes\n",
        "\n",
        "- **Enthusiast**\n",
        "- **Essentialist**\n",
        "- **Frugalist**"
      ]
    },
    {
      "cell_type": "code",
      "id": "personas-code",
      "metadata": {},
      "source": [
        "def gift_shopper_the_enthusiast(state: GiftShopper) -> Command[Literal[\"scour_the_internet\"]]:\n",
        "    instructions = \"\"\"You are a shopper who prioritizes excitement, joy, and memorable experiences, selecting gifts that bring a burst of fun and delight into the recipient’s life.\n",
        "\n",
        "    Select 3 gift ideas on this topic: {topic}.\n",
        "    \"\"\"\n",
        "    return gift_shopper(state, \"enthusiast\", instructions)\n",
        "\n",
        "def gift_shopper_the_essentialist(state: GiftShopper) -> Command[Literal[\"scour_the_internet\"]]:\n",
        "    instructions = \"\"\"You are a shopper who focuses on functional, purposeful items that seamlessly fit into daily routines, ensuring each gift is both meaningful and enduring.\n",
        "\n",
        "    Select {max_ideas} gift ideas on this topic: {topic}.\n",
        "    \"\"\"\n",
        "    return gift_shopper(state, \"essentialist\", instructions)\n",
        "\n",
        "def gift_shopper_the_frugalist(state: GiftShopper) -> Command[Literal[\"scour_the_internet\"]]:\n",
        "    instructions = \"\"\"You are a shopper who carefully curates gifts that maximize value while staying firmly within budget. A true connoisseur of cost-effective choices.\n",
        "\n",
        "    Select {max_ideas} gift ideas on this topic: {topic}.\n",
        "    \"\"\"\n",
        "    return gift_shopper(state, \"frugalist\", instructions)"
      ],
      "execution_count": null,
      "outputs": []
    },
    {
      "cell_type": "markdown",
      "id": "scour",
      "metadata": {},
      "source": [
        "## Scouring the Internet Node\n",
        "\n",
        "This node takes the generated ideas and sends them to a web search agent. For demonstration, it will return after sending the first idea."
      ]
    },
    {
      "cell_type": "code",
      "id": "scour-code",
      "metadata": {},
      "source": [
        "def scour_the_internet(state: IdeaList) -> Command[Literal[\"web_search_agent\"]]:\n",
        "    logger.info(\"*\"*50)\n",
        "    logger.info(f\"Scouring the internet for ideas: {state}\")\n",
        "    logger.info(\"*\"*50)\n",
        "    # For simplicity, just use the first idea to form a search query.\n",
        "    for idea in state[\"ideas\"]:\n",
        "        search_query = f\"{idea.name}: {idea.description}\"\n",
        "        return Send(\"web_search_agent\", {\"shopper_type\": idea.shopper_type, \"search_query\": search_query})"
      ],
      "execution_count": null,
      "outputs": []
    },
    {
      "cell_type": "markdown",
      "id": "web-search-agent",
      "metadata": {},
      "source": [
        "## Web Search Agent Node\n",
        "\n",
        "This node either simulates web search results (if `USE_SIMULATE_SEARCH` is \"true\") or uses the SerpAPI for real searches."
      ]
    },
    {
      "cell_type": "code",
      "id": "web-search-agent-code",
      "metadata": {},
      "source": [
        "def web_search_agent(state: SearchQuery) -> Command[Literal[\"final_gift_recommendations\"]]:\n",
        "    logger.info(\"-\"*50)\n",
        "    logger.info(f\"SearchQuery state: {state}\")\n",
        "    logger.info(\"-\"*50)\n",
        "\n",
        "    search_query = state[\"search_query\"]\n",
        "    shopper_type = state[\"shopper_type\"]\n",
        "\n",
        "    all_results = []\n",
        "    # Simulate results if environment variable not configured for real search\n",
        "    if os.getenv(\"USE_SIMULATE_SEARCH\", \"true\").lower() == \"true\":\n",
        "        logger.info(\"Simulating web search results\")\n",
        "        all_results = [\n",
        "            WebSearchResult(title=\"Best Budget Gifts\", link=\"http://example.com/budget-gifts\", source=\"Example Source\", shopper_type=shopper_type, position=1, thumbnail=\"http://example.com/thumbnail1.jpg\", price=\"$10\", tag=\"Budget\", product_link=\"http://example.com/product1\"),\n",
        "            WebSearchResult(title=\"Top Essential Gifts\", link=\"http://example.com/essential-gifts\", source=\"Example Source\", shopper_type=shopper_type, position=2, thumbnail=\"http://example.com/thumbnail2.jpg\", price=\"$20\", tag=\"Essential\", product_link=\"http://example.com/product2\"),\n",
        "            WebSearchResult(title=\"Exciting Gift Ideas\", link=\"http://example.com/exciting-gifts\", source=\"Example Source\", shopper_type=shopper_type, position=3, thumbnail=\"http://example.com/thumbnail3.jpg\", price=\"$30\", tag=\"Exciting\", product_link=\"http://example.com/product3\"),\n",
        "            WebSearchResult(title=\"Affordable Tech Gadgets\", link=\"http://example.com/tech-gadgets\", source=\"Tech Source\", shopper_type=shopper_type, position=4, thumbnail=\"http://example.com/thumbnail4.jpg\", price=\"$40\", tag=\"Tech\", product_link=\"http://example.com/product4\"),\n",
        "            WebSearchResult(title=\"Unique Handmade Gifts\", link=\"http://example.com/handmade-gifts\", source=\"Craft Source\", shopper_type=shopper_type, position=5, thumbnail=\"http://example.com/thumbnail5.jpg\", price=\"$50\", tag=\"Handmade\", product_link=\"http://example.com/product5\"),\n",
        "            WebSearchResult(title=\"Eco-Friendly Gifts\", link=\"http://example.com/eco-gifts\", source=\"Green Source\", shopper_type=shopper_type, position=6, thumbnail=\"http://example.com/thumbnail6.jpg\", price=\"$60\", tag=\"Eco\", product_link=\"http://example.com/product6\"),\n",
        "            WebSearchResult(title=\"Luxury Gifts on a Budget\", link=\"http://example.com/luxury-budget\", source=\"Luxury Source\", shopper_type=shopper_type, position=7, thumbnail=\"http://example.com/thumbnail7.jpg\", price=\"$70\", tag=\"Luxury\", product_link=\"http://example.com/product7\"),\n",
        "            WebSearchResult(title=\"Practical Everyday Gifts\", link=\"http://example.com/everyday-gifts\", source=\"Daily Source\", shopper_type=shopper_type, position=8, thumbnail=\"http://example.com/thumbnail8.jpg\", price=\"$80\", tag=\"Practical\", product_link=\"http://example.com/product8\"),\n",
        "            WebSearchResult(title=\"Fun and Quirky Gifts\", link=\"http://example.com/quirky-gifts\", source=\"Fun Source\", shopper_type=shopper_type, position=9, thumbnail=\"http://example.com/thumbnail9.jpg\", price=\"$90\", tag=\"Quirky\", product_link=\"http://example.com/product9\"),\n",
        "            WebSearchResult(title=\"Top Gifts for Enthusiasts\", link=\"http://example.com/enthusiast-gifts\", source=\"Enthusiast Source\", shopper_type=shopper_type, position=10, thumbnail=\"http://example.com/thumbnail10.jpg\", price=\"$100\", tag=\"Enthusiast\", product_link=\"http://example.com/product10\")\n",
        "        ]\n",
        "    else:\n",
        "        serpapi_api_key = os.getenv(\"SERPAPI_API_KEY\", \"\")\n",
        "        params = {\n",
        "            \"q\": search_query,\n",
        "            \"api_key\": serpapi_api_key,\n",
        "            \"engine\": \"google_shopping\",\n",
        "            \"google_domain\": \"google.com\",\n",
        "            \"direct_link\": \"true\",\n",
        "            \"gl\": \"us\",\n",
        "            \"hl\": \"en\",\n",
        "            \"num\": \"5\"\n",
        "        }\n",
        "        search = GoogleSearch(params)\n",
        "        results = search.get_dict()\n",
        "        logger.info(\"Search results from SerpAPI:\")\n",
        "        logger.info(json.dumps(results, indent=2))\n",
        "        for result in results.get('shopping_results', []):\n",
        "            position = result.get('position', 1)\n",
        "            source = result.get('source', 'Unknown Source')\n",
        "            title = result.get('title', 'No Title')\n",
        "            link = result.get('link', 'No Link')\n",
        "            thumbnail = result.get('thumbnail', 'No Thumbnail')\n",
        "            price = result.get('price', 'No Price')\n",
        "            tag = result.get('tag', 'No Tag')\n",
        "            product_link = result.get('product_link', 'No Product Link')\n",
        "            all_results.append(\n",
        "                WebSearchResult(\n",
        "                    title=title,\n",
        "                    link=link,\n",
        "                    source=source,\n",
        "                    shopper_type=shopper_type,\n",
        "                    position=position,\n",
        "                    thumbnail=thumbnail,\n",
        "                    price=price,\n",
        "                    tag=tag,\n",
        "                    product_link=product_link\n",
        "                )\n",
        "            )\n",
        "\n",
        "    logger.info(f\"All search results: {all_results}\")\n",
        "    return Command(goto=\"final_gift_recommendations\", update={\"search_results\": all_results})"
      ],
      "execution_count": null,
      "outputs": []
    },
    {
      "cell_type": "markdown",
      "id": "building-graph",
      "metadata": {},
      "source": [
        "## Building and Compiling the State Graph\n",
        "\n",
        "We use a state graph to define the flow of operations. The states (nodes) represent different steps (e.g., gift ideation, web search, finalization), and edges define the transitions.\n",
        "\n",
        "Below, we create and compile the graph."
      ]
    },
    {
      "cell_type": "code",
      "id": "build-graph-code",
      "metadata": {},
      "source": [
        "builder = StateGraph(GiftShopper)\n",
        "builder.add_node(\"gift_ideation_router\", gift_ideation_router)\n",
        "builder.add_node(\"gift_shopper_the_enthusiast\", gift_shopper_the_enthusiast)\n",
        "builder.add_node(\"gift_shopper_the_essentialist\", gift_shopper_the_essentialist)\n",
        "builder.add_node(\"gift_shopper_the_frugalist\", gift_shopper_the_frugalist)\n",
        "builder.add_node(\"scour_the_internet\", scour_the_internet)\n",
        "builder.add_node(\"web_search_agent\", web_search_agent)\n",
        "builder.add_node(\"final_gift_recommendations\", final_gift_recommendations)\n",
        "\n",
        "# Logic\n",
        "builder.add_edge(START, \"gift_ideation_router\")\n",
        "builder.add_edge(\"gift_ideation_router\", \"gift_shopper_the_enthusiast\")\n",
        "builder.add_edge(\"gift_ideation_router\", \"gift_shopper_the_essentialist\")\n",
        "builder.add_edge(\"gift_ideation_router\", \"gift_shopper_the_frugalist\")\n",
        "builder.add_edge(\"final_gift_recommendations\", END)\n",
        "\n",
        "graph = builder.compile()"
      ],
      "execution_count": null,
      "outputs": []
    },
    {
      "cell_type": "markdown",
      "id": "visualize-graph",
      "metadata": {},
      "source": [
        "## Visualizing the Graph (Optional)\n",
        "\n",
        "If you have the necessary tools installed, you can generate an image of the graph.  \n",
        "**Note:** This requires `graphviz` and the `draw_mermaid_png()` method may need specific configuration."
      ]
    },
    {
      "cell_type": "code",
      "id": "visualize-graph-code",
      "metadata": {},
      "source": [
        "def create_agent_graph_image():\n",
        "    graph_image = graph.get_graph(xray=1).draw_mermaid_png()\n",
        "    timestamp = datetime.datetime.now().strftime(\"%Y_%m_%d_%H_%M_%S\")\n",
        "    filename = f\"agent_{timestamp}.png\"\n",
        "    with open(filename, \"wb\") as f:\n",
        "        f.write(graph_image)\n",
        "    logger.info(f\"Graph image saved as '{filename}'. Open this file to view the graph.\")"
      ],
      "execution_count": null,
      "outputs": []
    },
    {
      "cell_type": "markdown",
      "id": "running-system",
      "metadata": {},
      "source": [
        "## Running the System\n",
        "\n",
        "Normally, the code uses `argparse` when run as a script. Here in the notebook, we can directly invoke the graph with parameters.\n",
        "\n",
        "**Example:** Let's run the flow with `topic=\"gifts for coffee lovers\"` and `max_ideas=3`.  \n",
        "This will:\n",
        "1. Start at `gift_ideation_router` (based on the START node).\n",
        "2. Move through one of the shopper persona nodes (as defined by the edges).\n",
        "3. Generate gift ideas.\n",
        "4. Scour the internet (simulated here).\n",
        "5. Produce final recommendations in `gift_recommendations.html`."
      ]
    },
    {
      "cell_type": "code",
      "id": "run-system-code",
      "metadata": {},
      "source": [
        "# Example run\n",
        "test_topic = \"gifts for coffee lovers\"\n",
        "test_max_ideas = 3\n",
        "\n",
        "graph.invoke({\"topic\": test_topic, \"max_ideas\": test_max_ideas})"
      ],
      "execution_count": null,
      "outputs": []
    },
    {
      "cell_type": "markdown",
      "id": "check-output",
      "metadata": {},
      "source": [
        "## Checking the Output\n",
        "\n",
        "After running the cell above, an HTML file named `gift_recommendations.html` should be created in your current directory. You can open it to see the top recommended gifts."
      ]
    },
    {
      "cell_type": "markdown",
      "id": "conclusion",
      "metadata": {},
      "source": [
        "# Conclusion\n",
        "\n",
        "In this notebook, we've demonstrated how to structure a multi-step gift recommendation process using a state graph and a language model. The system supports different shopper personas and can be extended with real web searches if proper API keys and environment variables are configured.\n",
        "\n",
        "Feel free to experiment with different `topic` inputs, tweak the logic, or integrate real search results via SerpAPI for a fully operational system."
      ]
    }
  ],
  "metadata": {
    "kernelspec": {
      "display_name": "Python 3",
      "language": "python",
      "name": "python3"
    },
    "language_info": {
      "name": "python"
    }
  },
  "nbformat": 4,
  "nbformat_minor": 5
}
